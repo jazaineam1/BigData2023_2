{
  "nbformat": 4,
  "nbformat_minor": 0,
  "metadata": {
    "colab": {
      "provenance": [],
      "authorship_tag": "ABX9TyOB4qUqQVHa7SeOOrUwJVP7",
      "include_colab_link": true
    },
    "kernelspec": {
      "name": "python3",
      "display_name": "Python 3"
    },
    "language_info": {
      "name": "python"
    }
  },
  "cells": [
    {
      "cell_type": "markdown",
      "metadata": {
        "id": "view-in-github",
        "colab_type": "text"
      },
      "source": [
        "<a href=\"https://colab.research.google.com/github/jazaineam1/BigData2023_2/blob/main/Cuadernos/Sesion1_Introducci%C3%B3n.ipynb\" target=\"_parent\"><img src=\"https://colab.research.google.com/assets/colab-badge.svg\" alt=\"Open In Colab\"/></a>"
      ]
    },
    {
      "cell_type": "markdown",
      "source": [
        "# ***Introducción a Big Data e ingesta de datos en python***\n",
        "\n",
        "## ***Universidad Central***\n",
        ">## **Facultad de Ingeniería y Ciencias Básicas.**\n",
        ">## ***Maestría en analítica de datos***\n",
        "![Imágen1](https://www.ucentral.edu.co/themes/ucentral/img/template/Universidad%20Central.png)\n",
        "\n",
        "\n",
        ">## ***Big Data.***\n",
        ">## ***Docente: Antonino Zainea Maya.***"
      ],
      "metadata": {
        "id": "w2DZSfsQL3Bm"
      }
    },
    {
      "cell_type": "markdown",
      "source": [
        "## Parte 1\n",
        "\n",
        "### Introducción\n",
        "\n",
        "En el mundo digital actual, es importante entender la cantidad de datos que las plataformas en línea recopilan sobre nosotros y cómo esta información se utiliza para personalizar servicios y anuncios. A continuación, exploramos algunas de las principales empresas y la información que pueden recopilar:\n",
        "\n",
        "1. Google y su Recopilación de Datos:\n",
        "\n",
        "Al utilizar servicios de Google como Gmail, es esencial leer detenidamente la política de privacidad para comprender qué datos estamos autorizando compartir. Google rastrea nuestras búsquedas, ubicaciones y viajes, y utiliza estos datos para dirigir anuncios específicos hacia nosotros.\n",
        "\n",
        "2. Facebook y su Conocimiento Detallado:\n",
        "\n",
        "Facebook sabe detalles sobre nuestras relaciones, intereses y actividades, lo que puede influir en los anuncios que vemos. Incluso puede predecir el deterioro de relaciones basándose en patrones en la plataforma. La capacidad de la plataforma para inferir rasgos emocionales a través de las interacciones también es notable.\n",
        "\n",
        "3. Twitter y las Implicaciones Personales:\n",
        "\n",
        "Twitter también tiene la capacidad de inferir nuestra estabilidad emocional basándose en nuestras interacciones y publicaciones. Algunas empresas incluso utilizan análisis de redes sociales durante los procesos de selección.\n",
        "\n",
        "4. Apple y la Continuidad de la Conexión:\n",
        "\n",
        "Los iPhones están diseñados de manera que la batería no se pueda extraer, lo que puede llevar a que el dispositivo siempre esté conectado. Esto ha llevado a especulaciones sobre si los datos se transmiten incluso cuando el teléfono está apagado o sin batería.\n",
        "\n",
        "5. YouTube y Amazon: Personalización y Recomendaciones:\n",
        "\n",
        "Plataformas como YouTube y Amazon recopilan información sobre los videos que vemos y las compras que realizamos, respectivamente. Esta información se utiliza para recomendaciones personalizadas, lo que contribuye a la experiencia del usuario."
      ],
      "metadata": {
        "id": "IsXqiID8VZtW"
      }
    },
    {
      "cell_type": "markdown",
      "source": [
        "\n",
        "<span class=\"hljs-tag\"><img src=\"https://cdn.statcdn.com/Infographic/images/normal/17539.jpeg\" width=\"580\">\n",
        "\n"
      ],
      "metadata": {
        "id": "ht6TMsECR_ZH"
      }
    },
    {
      "cell_type": "markdown",
      "source": [
        "La actual era, a menudo denominada \"era de la información\" o \"era digital\", se caracteriza por la abundancia de datos y la rápida evolución de la tecnología de la información. En esta era, la industria ha experimentado una transformación significativa en la forma en que opera y toma decisiones debido al acceso y la disponibilidad de grandes volúmenes de información. Aquí hay algunas razones clave por las cuales el manejo de grandes volúmenes de información es crucial en la industria en esta era:\n",
        "\n",
        "1. **Toma de decisiones informadas:** 🧐📊 Las organizaciones pueden tomar decisiones más informadas y estratégicas al analizar grandes conjuntos de datos. Esto les permite comprender mejor el mercado, los patrones de consumo, las preferencias del cliente y las tendencias emergentes. La toma de decisiones basada en datos es esencial para mantenerse competitivo en un entorno empresarial en constante cambio.\n",
        "\n",
        "2. **Personalización y segmentación:** 🎯👥 Con acceso a grandes cantidades de datos, las empresas pueden personalizar sus productos y servicios de acuerdo con las necesidades y preferencias individuales de los clientes. Esto les permite dirigirse a segmentos específicos de la población de manera más efectiva, mejorando así la experiencia del cliente y aumentando la lealtad.\n",
        "\n",
        "3. **Optimización de procesos:** ⚙️📈 El análisis de grandes volúmenes de datos puede revelar ineficiencias y áreas de mejora en los procesos empresariales. Al identificar estos puntos débiles, las organizaciones pueden optimizar sus operaciones, reducir costos y mejorar la eficiencia en general.\n",
        "\n",
        "4. **Innovación:** 💡🚀 La exploración de grandes cantidades de datos puede conducir a descubrimientos y patrones inesperados que pueden generar nuevas ideas y oportunidades de innovación. Al identificar correlaciones y relaciones que no eran evidentes anteriormente, las empresas pueden desarrollar productos y servicios innovadores.\n",
        "\n",
        "5. **Predicción y prevención:** 🔮🕵️‍♂️ Mediante el análisis de datos históricos y en tiempo real, las empresas pueden predecir tendencias futuras y riesgos potenciales. Esto es especialmente valioso en sectores como la salud, la seguridad cibernética y la gestión de la cadena de suministro, donde la anticipación de problemas puede marcar la diferencia.\n",
        "\n",
        "6. **Mejora de la experiencia del cliente:** 🛍️👤 Las empresas pueden utilizar datos para comprender mejor el viaje del cliente y mejorar su experiencia en todas las etapas. Esto incluye desde la adquisición inicial hasta la retención y el servicio postventa, lo que conduce a relaciones más sólidas con los clientes.\n",
        "\n",
        "7. **Investigación y desarrollo:** 🔬💼 En industrias como la farmacéutica y la tecnología, el análisis de grandes conjuntos de datos puede acelerar la investigación y el desarrollo al identificar patrones y relaciones en la información recopilada.\n",
        "\n",
        "8. **Competitividad:** 🏆📈 Aquellas organizaciones que pueden aprovechar eficazmente grandes volúmenes de datos tienen una ventaja competitiva en el mercado. La capacidad de adaptarse y responder a los cambios en función de la información en tiempo real puede marcar una gran diferencia en la capacidad de una empresa para mantenerse relevante y competitiva.\n"
      ],
      "metadata": {
        "id": "68V2FQOZZwTu"
      }
    },
    {
      "cell_type": "markdown",
      "source": [
        "![](https://pbs.twimg.com/media/EFz4Xl2XUAA4G8z?format=jpg&name=900x900)"
      ],
      "metadata": {
        "id": "AT_HuPOEPZJz"
      }
    },
    {
      "cell_type": "markdown",
      "source": [
        "El análisis de conjuntos de datos de Big Data es un esfuerzo interdisciplinario que combina matemáticas, estadísticas, ciencias de la computación y experiencia en la materia. Esta mezcla de conjuntos de habilidades y perspectivas ha generado cierta confusión sobre lo que comprende el campo del Big Data y su análisis, ya que la respuesta que se recibe dependerá de la perspectiva de quien responda a la pregunta. Los límites de lo que constituye un problema de Big Data también están cambiando debido al paisaje en constante cambio y avance de la tecnología de software y hardware. Esto se debe al hecho de que la definición de Big Data tiene en cuenta el impacto de las características de los datos en el diseño del entorno de solución en sí mismo. Hace treinta años, un gigabyte de datos podía representar un problema de Big Data y requerir recursos informáticos especiales. Ahora, los gigabytes de datos son comunes y se pueden transmitir, procesar y almacenar fácilmente en dispositivos orientados al consumidor.\n",
        "\n",
        "Los datos dentro de los entornos de Big Data generalmente se acumulan al ser recopilados dentro de la empresa a través de aplicaciones, sensores y fuentes externas. Los datos procesados por una solución de Big Data pueden ser utilizados directamente por las aplicaciones empresariales o pueden ser alimentados en un almacén de datos para enriquecer los datos existentes allí. Los resultados obtenidos a través del procesamiento de Big Data pueden llevar a una amplia gama de conocimientos y beneficios, como:\n",
        "\n",
        "\n",
        "\n",
        "- Optimización operativa 🔄📊\n",
        "- Inteligencia accionable 🧠💡\n",
        "- Identificación de nuevos mercados 🌍🔍\n",
        "- Predicciones precisas 🎯🔮\n",
        "- Detección de fallas y fraudes ⚠️🕵️‍♂️\n",
        "- Registros más detallados 📝🔍\n",
        "- Mejora en la toma de decisiones 📈🤝\n",
        "- Descubrimientos científicos 🔬🧪\n",
        "\n",
        "\n",
        "\n",
        "Evidentemente, las aplicaciones y los beneficios potenciales del Big Data son amplios. Sin embargo, existen numerosos problemas que deben considerarse al adoptar enfoques de análisis de Big Data. Estos problemas deben entenderse y ponderarse frente a los beneficios anticipados para que se puedan generar decisiones y planes informados."
      ],
      "metadata": {
        "id": "zX6Lqb3ta0kV"
      }
    },
    {
      "cell_type": "markdown",
      "source": [
        "### **ALgunos conceptos importantes**\n",
        "\n",
        "**On-Premise:**\n",
        "- **Almacenamiento local:** En una solución \"on-premise\", los datos se almacenan en servidores y sistemas que están físicamente ubicados en las instalaciones de la organización.\n",
        "- **Control total:** La organización tiene un control completo sobre la infraestructura, los servidores y el entorno en el que se encuentran los datos.\n",
        "- **Seguridad y privacidad:** La seguridad depende de la infraestructura y medidas de seguridad implementadas por la organización, lo que puede requerir inversiones significativas en términos de seguridad cibernética y recursos humanos.\n",
        "- **Costos iniciales:** Se requiere una inversión inicial en hardware, servidores, infraestructura y personal para gestionar y mantener los sistemas.\n",
        "- **Escalabilidad limitada:** La escalabilidad puede ser más complicada y costosa, ya que se deben adquirir y configurar nuevos equipos físicos a medida que crecen los requisitos de datos.\n",
        "- **Acceso local:** El acceso a los datos suele limitarse a la red interna de la organización y puede requerir conexiones VPN para acceder de forma segura desde ubicaciones remotas.\n",
        "\n",
        "**Data Cloud (Nube de Datos):**\n",
        "- **Almacenamiento en la nube:** En una solución de \"data cloud\", los datos se almacenan en servidores remotos y gestionados por proveedores de servicios en la nube.\n",
        "- **Infraestructura gestionada:** La organización no es responsable de mantener la infraestructura física. El proveedor de la nube se encarga de la administración y el mantenimiento.\n",
        "- **Seguridad y privacidad:** Los proveedores de la nube ofrecen medidas de seguridad robustas y certificaciones para proteger los datos. Sin embargo, la confianza en la seguridad de la nube implica ceder cierto nivel de control a terceros.\n",
        "- **Costos escalonados:** Los costos suelen ser operativos en lugar de iniciales, con modelos de pago por uso. Puede ser más rentable a largo plazo, especialmente para empresas que experimentan cambios en sus necesidades de almacenamiento y cómputo.\n",
        "- **Escalabilidad flexible:** La nube permite escalar fácilmente los recursos según las necesidades cambiantes, ya que los proveedores pueden asignar recursos adicionales de manera rápida y eficiente.\n",
        "- **Acceso remoto:** Los datos pueden accederse desde cualquier ubicación con conexión a Internet, lo que facilita el trabajo remoto y la colaboración.\n",
        "\n",
        "La elección entre \"on-premise\" y \"data cloud\" depende de los objetivos, recursos y necesidades de seguridad de una organización. Las soluciones \"on-premise\" brindan un mayor control pero requieren inversiones significativas, mientras que las soluciones en la nube ofrecen flexibilidad y escalabilidad, a expensas de ceder cierto control sobre la infraestructura a terceros."
      ],
      "metadata": {
        "id": "4EZKoeSTb_e1"
      }
    },
    {
      "cell_type": "markdown",
      "source": [
        "\n",
        "\n",
        "<span class=\"hljs-tag\"><img src=\"https://edteam-media.s3.amazonaws.com/blogs/original/def59e91-b472-40dd-b9c4-cda7f79a3515.png\" width=\"580\">\n",
        "\n",
        "## Las Mejores Empresas de Cloud Computing\n",
        "\n",
        "Lamejores empresas de Cloud Computing, ideales para ser contratadas debido a su eficiencia y competitividad en términos de computación en la nube, procesamiento y análisis de datos. Las herramientas y servicios que ofrecen son fundamentales para optimizar las operaciones empresariales de manera eficiente.\n",
        "\n",
        "1.  [**Amazon Web Services (AWS)** 🌐🔧](https://aws.amazon.com/es/)\n",
        "   Amazon Web Services es una plataforma de Cloud Computing gestionada por Amazon. Es la plataforma más grande y ampliamente utilizada en todo el mundo, ofreciendo una variedad de herramientas y servicios que facilitan la administración de operaciones empresariales de manera efectiva. Algunas de estas herramientas incluyen:\n",
        "   \n",
        "   - Amazon Elastic Compute Cloud\n",
        "   - Amazon Simple Storage Service\n",
        "   - Amazon Relational Database Service\n",
        "   - Amazon Virtual Private Cloud\n",
        "   - Amazon Lambda\n",
        "   - Amazon Elastic Block Store\n",
        "\n",
        "2. [**Microsoft Azure** ☁️🔍](https://azure.microsoft.com/es-es)\n",
        "   Microsoft Azure es la plataforma de Cloud Computing de Microsoft. Ofrece servicios de computación, almacenamiento, análisis de datos y aprendizaje automático, entre otros. Destacan servicios como:\n",
        "   \n",
        "   - Azure Virtual Machines\n",
        "   - Azure Storage\n",
        "   - Azure SQL Database\n",
        "   - Azure App Service\n",
        "   - Azure Cosmos DB\n",
        "\n",
        "3. [**Google Cloud Platform (GCP)** ☁️🚀](https://cloud.google.com/?hl=es)\n",
        "   Google Cloud Platform es la solución de Google, conocida por su disponibilidad, escalabilidad y precio competitivo. Ofrece una amplia gama de servicios, como:\n",
        "   \n",
        "   - Google Compute Engine\n",
        "   - Google Cloud Storage\n",
        "   - Google Cloud SQL\n",
        "   - Google BigQuery\n",
        "\n",
        "4. [**IBM Cloud** ☁️🔑](https://cloud.ibm.com/)\n",
        "   IBM Cloud ofrece una amplia gama de servicios, incluyendo almacenamiento, computación, análisis y servicios integrados con herramientas existentes de IBM. Algunos servicios destacados son:\n",
        "   \n",
        "   - IBM Watson Studio\n",
        "   - IBM Cloud Pak for Data\n",
        "   - IBM Cloud Pak for Security\n",
        "\n",
        "\n",
        "**Fuente:** [Tokio School](https://www.tokioschool.com/noticias/empresas-cloud-computing/)\n",
        "\n"
      ],
      "metadata": {
        "id": "jZvfnz6UlWTP"
      }
    },
    {
      "cell_type": "markdown",
      "source": [
        "![texto del vínculo](https://i.blogs.es/282664/crecimiento-cloud-computing-1/1366_2000.jpeg)"
      ],
      "metadata": {
        "id": "xUzploqznegq"
      }
    },
    {
      "cell_type": "markdown",
      "source": [
        "## ¿Qué es el Big Data?\n",
        "\n",
        "Para que un conjunto de datos sea considerado como Big Data, debe poseer una o más características que requieran adaptación en el diseño y la arquitectura de la solución del entorno analítico. La mayoría de estas características de los datos fueron identificadas inicialmente por Doug Laney a principios de 2001, cuando publicó un artículo describiendo el impacto del volumen, la velocidad y la variedad de los datos de comercio electrónico en los almacenes de datos empresariales. A esta lista se ha añadido la veracidad para tener en cuenta la relación señal-ruido más baja de los datos no estructurados en comparación con las fuentes de datos estructurados. En última instancia, el objetivo es realizar un análisis de los datos de manera que se entreguen resultados de alta calidad de manera oportuna, lo que proporciona un valor óptimo a la empresa.\n",
        "\n",
        "Esta sección explora las cinco características del Big Data que pueden utilizarse para diferenciar los datos categorizados como \"grandes\" de otras formas de datos. Las cinco características del Big Data que se muestran en la Figura 1.11 se conocen comúnmente como los Cinco V:\n",
        "- Volumen (Volume)\n",
        "- Velocidad (Velocity)\n",
        "- Variedad (Variety)\n",
        "- Veracidad (Veracity)\n",
        "- Valor (Value)\n",
        "\n",
        "<span class=\"hljs-tag\"><img src=\"https://datascience.uc.cl/images/las-5-v-bigdata.png\" width=\"480\">\n",
        "\n",
        "\n",
        "**Volumen**\n",
        "El volumen anticipado de datos que procesan las soluciones de Big Data es considerable y está en constante crecimiento. Los altos volúmenes de datos imponen demandas distintas en el almacenamiento y procesamiento de datos, así como procesos adicionales de preparación, curación y gestión de datos.\n",
        "\n",
        "Fuentes de datos típicas que son responsables de generar altos volúmenes de datos pueden incluir:\n",
        "\n",
        "* transacciones en línea, como puntos de venta y banca\n",
        "* experimentos científicos e investigaciones, como el Gran Colisionador de Hadrones y el telescopio Atacama Large Millimeter/Submillimeter Array\n",
        "* sensores, como sensores GPS, RFIDs, medidores inteligentes y telemetría\n",
        "* redes sociales, como Facebook y Twitter\n",
        "\n",
        "**Velocidad**\n",
        "En entornos de Big Data, los datos pueden llegar a velocidades rápidas y enormes conjuntos de datos pueden acumularse en períodos de tiempo muy cortos. Desde el punto de vista de una empresa, la velocidad de los datos se traduce en el tiempo que lleva procesar los datos una vez que ingresan en el perímetro de la empresa. Lidiar con el rápido flujo de datos requiere que la empresa diseñe soluciones de procesamiento de datos altamente elásticas y disponibles, así como capacidades de almacenamiento de datos correspondientes.\n",
        "\n",
        "Dependiendo de la fuente de datos, la velocidad no siempre puede ser alta. Por ejemplo, las imágenes de resonancia magnética (MRI) no se generan con tanta frecuencia como las entradas de registro de un servidor web con mucho tráfico. La velocidad de los datos cobra perspectiva al considerar que los siguientes volúmenes de datos pueden generarse fácilmente en un minuto dado: 350,000 tweets, 500 horas de metraje de video cargado en YouTube, 197 millones de correos electrónicos y 330 GB de datos de sensores de un motor a reacción.\n",
        "\n",
        "\n",
        "**Variedad**\n",
        "La variedad de datos se refiere a los múltiples formatos y tipos de datos que deben ser compatibles con las soluciones de Big Data. La variedad de datos plantea desafíos para las empresas en términos de integración, transformación, procesamiento y almacenamiento de datos. La Figura 1.14 ofrece una representación visual de la variedad de datos, que incluye datos estructurados en forma de transacciones financieras, datos semi-estructurados en forma de correos electrónicos y datos no estructurados en forma de imágenes.\n",
        "\n",
        "**Veracidad**\n",
        "La veracidad se refiere a la calidad o fidelidad de los datos. Los datos que ingresan en entornos de Big Data deben ser evaluados en cuanto a su calidad, lo que puede llevar a actividades de procesamiento de datos para resolver datos inválidos y eliminar el ruido. En relación con la veracidad, los datos pueden ser parte de la señal o del ruido en un conjunto de datos. El ruido es data que no se puede convertir en información y, por lo tanto, no tiene valor, mientras que las señales tienen valor y conducen a información significativa. Los datos con una alta relación señal-ruido tienen más veracidad que los datos con una relación más baja. Los datos que se adquieren de manera controlada, por ejemplo, a través de registros de clientes en línea, suelen contener menos ruido que los datos adquiridos a través de fuentes no controladas, como publicaciones en blogs. Por lo tanto, la relación señal-ruido de los datos depende de la fuente de los datos y su tipo.\n",
        "\n",
        "\n",
        "**Valor**\n",
        "El valor se define como la utilidad de los datos para una empresa. La característica de valor está intuitivamente relacionada con la característica de veracidad en el sentido de que cuanto mayor sea la fidelidad de los datos, más valor tendrá para el negocio. El valor también depende de cuánto tiempo lleva el procesamiento de datos, ya que los resultados del análisis tienen una vida útil; por ejemplo, una cotización de acciones con 20 minutos de retraso tiene poco o ningún valor para realizar una operación en comparación con una cotización que tiene 20 milisegundos de antigüedad.\n",
        "Como se demuestra, el valor y el tiempo están inversamente relacionados. Cuanto más tiempo se tarde en convertir los datos en información significativa, menos valor tendrá para un negocio. Los resultados obsoletos inhiben la calidad y la velocidad de la toma de decisiones informadas."
      ],
      "metadata": {
        "id": "Bja2W9P4oTCD"
      }
    },
    {
      "cell_type": "markdown",
      "source": [
        "Los datos generados por humanos y por máquinas pueden provenir de una variedad de fuentes y representarse en diversos formatos o tipos. A Continuación veremos la variedad de tipos de datos que son procesados por las soluciones de Big Data. Los principales tipos de datos son:\n",
        "\n",
        "- Datos estructurados\n",
        "- Datos no estructurados\n",
        "- Datos semi-estructurados\n",
        "\n",
        "![texto del vínculo](https://dgcloud.com.br/wp-content/uploads/2022/01/Estruturado-vs-Desestruturado.png)\n",
        "\n",
        "Estos tipos de datos se refieren a la organización interna de los datos y a veces se denominan formatos de datos. Aparte de estos tres tipos fundamentales de datos.\n",
        "\n",
        "**Datos Estructurados**\n",
        "\n",
        "Los datos estructurados se ajustan a un modelo de datos o esquema y a menudo se almacenan en forma de tablas. Se utilizan para capturar relaciones entre diferentes entidades y, por lo tanto, se almacenan principalmente en una base de datos relacional. Los datos estructurados son generados con frecuencia por aplicaciones empresariales y sistemas de información como los sistemas ERP y CRM. Debido a la abundancia de herramientas y bases de datos que admiten nativamente datos estructurados, rara vez requiere consideración especial en cuanto a procesamiento o almacenamiento. Ejemplos de este tipo de datos incluyen transacciones bancarias, facturas y registros de clientes.\n",
        "\n",
        "* Ejemplo: Información de una base de datos de clientes que incluye nombres, direcciones, números de teléfono y fechas de compra.\n",
        "\n",
        "* Formatos Comunes: Tablas en bases de datos relacionales (por ejemplo, SQL), hojas de cálculo (por ejemplo, Excel), archivos CSV (valores separados por comas).\n",
        "\n",
        "**Datos No Estructurados**\n",
        "\n",
        "Los datos que no se ajustan a un modelo de datos o esquema de datos se conocen como datos no estructurados. Se estima que los datos no estructurados representan el 80% de los datos dentro de cualquier empresa dada. Los datos no estructurados tienen una tasa de crecimiento más rápida que los datos estructurados. Esta forma de datos puede ser tanto textual como binaria, y a menudo se transmite a través de archivos que son autosuficientes y no relacionales. Un archivo de texto puede contener el contenido de varios tweets o publicaciones de blogs. Los archivos binarios suelen ser archivos multimedia que contienen datos de imágenes, audio o video. Técnicamente, tanto los archivos de texto como los binarios tienen una estructura definida por el formato del archivo en sí, pero este aspecto se pasa por alto y la noción de ser no estructurados se refiere al formato de los datos contenidos en el archivo en sí mismo.\n",
        "\n",
        "* Ejemplo: Comentarios de clientes en una plataforma de redes sociales que expresan opiniones sobre un producto.\n",
        "\n",
        "* Formatos Comunes: Texto libre en comentarios, publicaciones de redes sociales, contenido de blogs, imágenes, audio y video.\n",
        "\n",
        "**Datos Semi-Estructurados**\n",
        "\n",
        "Los datos semi-estructurados tienen un nivel definido de estructura y consistencia, pero no son de naturaleza relacional. En cambio, los datos semi-estructurados son jerárquicos o basados en gráficos. Este tipo de datos comúnmente se almacena en archivos que contienen texto. Por ejemplo, la Figura 1.20 muestra que los archivos XML y JSON son formas comunes de datos semi-estructurados. Debido a la naturaleza textual de estos datos y su conformidad con algún nivel de estructura, son más fáciles de procesar que los datos no estructurados.\n",
        "\n",
        "* Ejemplo: Información de productos en formato XML que incluye detalles de productos y atributos.\n",
        "\n",
        "* Formatos Comunes: Archivos XML (Lenguaje de Marcado Extensible) para datos jerárquicos, archivos JSON (Notación de Objetos JavaScript) para datos basados en atributos, archivos HTML (Lenguaje de Marcado de Hipertexto) con metadatos y contenido estructurado.\n",
        "\n",
        "*Tomemonos una pausa de  15 minutos*"
      ],
      "metadata": {
        "id": "elJAgk80q9AC"
      }
    },
    {
      "cell_type": "markdown",
      "source": [
        "## Parte 2\n",
        "\n",
        "### Manipulación de datos en python"
      ],
      "metadata": {
        "id": "Z-KdSHOFtRHB"
      }
    },
    {
      "cell_type": "code",
      "execution_count": null,
      "metadata": {
        "id": "LaeUXmKJLwmP"
      },
      "outputs": [],
      "source": [
        ""
      ]
    }
  ]
}