{
  "nbformat": 4,
  "nbformat_minor": 0,
  "metadata": {
    "colab": {
      "provenance": [],
      "authorship_tag": "ABX9TyM+iWbEhFyQLgyxj5r5v59B",
      "include_colab_link": true
    },
    "kernelspec": {
      "name": "python3",
      "display_name": "Python 3"
    },
    "language_info": {
      "name": "python"
    }
  },
  "cells": [
    {
      "cell_type": "markdown",
      "metadata": {
        "id": "view-in-github",
        "colab_type": "text"
      },
      "source": [
        "<a href=\"https://colab.research.google.com/github/jazaineam1/BigData2023_2/blob/main/Cuadernos/Sesion1_Introducci%C3%B3n.ipynb\" target=\"_parent\"><img src=\"https://colab.research.google.com/assets/colab-badge.svg\" alt=\"Open In Colab\"/></a>"
      ]
    },
    {
      "cell_type": "markdown",
      "source": [
        "# ***Introducción a Big Data e ingesta de datos en python***\n",
        "\n",
        "## ***Universidad Central***\n",
        ">## **Facultad de Ingeniería y Ciencias Básicas.**\n",
        ">## ***Maestría en analítica de datos***\n",
        "![Imágen1](https://www.ucentral.edu.co/themes/ucentral/img/template/Universidad%20Central.png)\n",
        "\n",
        "\n",
        ">## ***Big Data.***\n",
        ">## ***Docente: Antonino Zainea Maya.***"
      ],
      "metadata": {
        "id": "w2DZSfsQL3Bm"
      }
    },
    {
      "cell_type": "markdown",
      "source": [
        "### Introducción\n",
        "\n",
        "En el mundo digital actual, es importante entender la cantidad de datos que las plataformas en línea recopilan sobre nosotros y cómo esta información se utiliza para personalizar servicios y anuncios. A continuación, exploramos algunas de las principales empresas y la información que pueden recopilar:\n",
        "\n",
        "1. Google y su Recopilación de Datos:\n",
        "\n",
        "Al utilizar servicios de Google como Gmail, es esencial leer detenidamente la política de privacidad para comprender qué datos estamos autorizando compartir. Google rastrea nuestras búsquedas, ubicaciones y viajes, y utiliza estos datos para dirigir anuncios específicos hacia nosotros.\n",
        "\n",
        "2. Facebook y su Conocimiento Detallado:\n",
        "\n",
        "Facebook sabe detalles sobre nuestras relaciones, intereses y actividades, lo que puede influir en los anuncios que vemos. Incluso puede predecir el deterioro de relaciones basándose en patrones en la plataforma. La capacidad de la plataforma para inferir rasgos emocionales a través de las interacciones también es notable.\n",
        "\n",
        "3. Twitter y las Implicaciones Personales:\n",
        "\n",
        "Twitter también tiene la capacidad de inferir nuestra estabilidad emocional basándose en nuestras interacciones y publicaciones. Algunas empresas incluso utilizan análisis de redes sociales durante los procesos de selección.\n",
        "\n",
        "4. Apple y la Continuidad de la Conexión:\n",
        "\n",
        "Los iPhones están diseñados de manera que la batería no se pueda extraer, lo que puede llevar a que el dispositivo siempre esté conectado. Esto ha llevado a especulaciones sobre si los datos se transmiten incluso cuando el teléfono está apagado o sin batería.\n",
        "\n",
        "5. YouTube y Amazon: Personalización y Recomendaciones:\n",
        "\n",
        "Plataformas como YouTube y Amazon recopilan información sobre los videos que vemos y las compras que realizamos, respectivamente. Esta información se utiliza para recomendaciones personalizadas, lo que contribuye a la experiencia del usuario."
      ],
      "metadata": {
        "id": "IsXqiID8VZtW"
      }
    },
    {
      "cell_type": "markdown",
      "source": [
        "\n",
        "<span class=\"hljs-tag\"><img src=\"https://cdn.statcdn.com/Infographic/images/normal/17539.jpeg\" width=\"580\">\n",
        "\n"
      ],
      "metadata": {
        "id": "ht6TMsECR_ZH"
      }
    },
    {
      "cell_type": "markdown",
      "source": [
        "![](https://pbs.twimg.com/media/EFz4Xl2XUAA4G8z?format=jpg&name=900x900)"
      ],
      "metadata": {
        "id": "AT_HuPOEPZJz"
      }
    },
    {
      "cell_type": "code",
      "execution_count": null,
      "metadata": {
        "id": "LaeUXmKJLwmP"
      },
      "outputs": [],
      "source": []
    }
  ]
}